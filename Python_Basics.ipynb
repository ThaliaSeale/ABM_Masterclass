{
  "cells": [
    {
      "cell_type": "markdown",
      "metadata": {
        "id": "v3DG8E9MfqH4"
      },
      "source": [
        "# Python Basics"
      ]
    },
    {
      "cell_type": "markdown",
      "metadata": {
        "id": "bS0JH-L8fyJe"
      },
      "source": [
        "## Arithmetic"
      ]
    },
    {
      "cell_type": "markdown",
      "metadata": {
        "id": "35GxJl3PgKa3"
      },
      "source": [
        "Addition"
      ]
    },
    {
      "cell_type": "code",
      "execution_count": null,
      "metadata": {
        "colab": {
          "base_uri": "https://localhost:8080/"
        },
        "id": "ICbJkMlofvcB",
        "outputId": "21a94678-b3e0-4d12-99e7-fab915665072"
      },
      "outputs": [
        {
          "data": {
            "text/plain": [
              "4"
            ]
          },
          "execution_count": 1,
          "metadata": {},
          "output_type": "execute_result"
        }
      ],
      "source": [
        "2 + 2"
      ]
    },
    {
      "cell_type": "markdown",
      "metadata": {
        "id": "PQo1Ow7EgLyQ"
      },
      "source": [
        "Subtraction"
      ]
    },
    {
      "cell_type": "code",
      "execution_count": null,
      "metadata": {
        "colab": {
          "base_uri": "https://localhost:8080/"
        },
        "id": "m3aw-lztgQeE",
        "outputId": "01eff467-6de6-49e8-c65a-366dc918020c"
      },
      "outputs": [
        {
          "data": {
            "text/plain": [
              "2"
            ]
          },
          "execution_count": 2,
          "metadata": {},
          "output_type": "execute_result"
        }
      ],
      "source": [
        "3 - 1"
      ]
    },
    {
      "cell_type": "markdown",
      "metadata": {
        "id": "Q0iW1EPJgNgx"
      },
      "source": [
        "Multiplication"
      ]
    },
    {
      "cell_type": "code",
      "execution_count": null,
      "metadata": {
        "colab": {
          "base_uri": "https://localhost:8080/"
        },
        "id": "lK6CVVdIgR9O",
        "outputId": "4097b64a-d670-4df7-9ec5-92f37b6055d5"
      },
      "outputs": [
        {
          "data": {
            "text/plain": [
              "15"
            ]
          },
          "execution_count": 3,
          "metadata": {},
          "output_type": "execute_result"
        }
      ],
      "source": [
        "5 * 3"
      ]
    },
    {
      "cell_type": "markdown",
      "metadata": {
        "id": "Eqlj-pXxgOyV"
      },
      "source": [
        "Division"
      ]
    },
    {
      "cell_type": "code",
      "execution_count": null,
      "metadata": {
        "colab": {
          "base_uri": "https://localhost:8080/"
        },
        "id": "Y-RsvpSlgQWx",
        "outputId": "c460a2bf-ea42-4ade-aea1-a72b35d2b59f"
      },
      "outputs": [
        {
          "data": {
            "text/plain": [
              "2.5"
            ]
          },
          "execution_count": 4,
          "metadata": {},
          "output_type": "execute_result"
        }
      ],
      "source": [
        "5 / 2"
      ]
    },
    {
      "cell_type": "markdown",
      "metadata": {
        "id": "jQywlHuI8oPB"
      },
      "source": [
        "Variables"
      ]
    },
    {
      "cell_type": "code",
      "execution_count": null,
      "metadata": {
        "id": "-fvl_aAw8nbQ"
      },
      "outputs": [],
      "source": [
        "variable = 4"
      ]
    },
    {
      "cell_type": "code",
      "execution_count": null,
      "metadata": {
        "colab": {
          "base_uri": "https://localhost:8080/"
        },
        "id": "8Gn7rzh9fpCR",
        "outputId": "c83d853d-f566-42e3-e54a-55dbd6199669"
      },
      "outputs": [
        {
          "data": {
            "text/plain": [
              "4"
            ]
          },
          "execution_count": 6,
          "metadata": {},
          "output_type": "execute_result"
        }
      ],
      "source": [
        "variable"
      ]
    },
    {
      "cell_type": "code",
      "execution_count": null,
      "metadata": {
        "colab": {
          "base_uri": "https://localhost:8080/"
        },
        "id": "4VoP2hd-9_T0",
        "outputId": "10024a34-a69c-4b7f-be8f-8498c9468fe2"
      },
      "outputs": [],
      "source": [
        "variable * 3"
      ]
    },
    {
      "cell_type": "markdown",
      "metadata": {
        "id": "z6dz4Pqa-_7r"
      },
      "source": [
        "## Types"
      ]
    },
    {
      "cell_type": "code",
      "execution_count": null,
      "metadata": {
        "colab": {
          "base_uri": "https://localhost:8080/"
        },
        "id": "qkTOGSkm-9sY",
        "outputId": "45747610-558b-4ef1-9b41-d41ee3da59e8"
      },
      "outputs": [
        {
          "data": {
            "text/plain": [
              "int"
            ]
          },
          "execution_count": 8,
          "metadata": {},
          "output_type": "execute_result"
        }
      ],
      "source": [
        "type(1)"
      ]
    },
    {
      "cell_type": "code",
      "execution_count": null,
      "metadata": {
        "colab": {
          "base_uri": "https://localhost:8080/"
        },
        "id": "Ebkbx2Lw_EMg",
        "outputId": "b9fc42b2-daf7-463a-898e-ef99a03fa036"
      },
      "outputs": [
        {
          "data": {
            "text/plain": [
              "float"
            ]
          },
          "execution_count": 9,
          "metadata": {},
          "output_type": "execute_result"
        }
      ],
      "source": [
        "type(1.1)"
      ]
    },
    {
      "cell_type": "code",
      "execution_count": null,
      "metadata": {
        "colab": {
          "base_uri": "https://localhost:8080/"
        },
        "id": "1O5JmLuC_Ff5",
        "outputId": "bbc7ed8a-2beb-4aa6-a7dd-c7a23457457b"
      },
      "outputs": [
        {
          "data": {
            "text/plain": [
              "list"
            ]
          },
          "execution_count": 10,
          "metadata": {},
          "output_type": "execute_result"
        }
      ],
      "source": [
        "type([1.2,1,2])"
      ]
    },
    {
      "cell_type": "markdown",
      "metadata": {
        "id": "EDhFHcBFG2ko"
      },
      "source": [
        "## Boolean variables and conditional statments"
      ]
    },
    {
      "cell_type": "code",
      "execution_count": null,
      "metadata": {
        "colab": {
          "base_uri": "https://localhost:8080/"
        },
        "id": "Vkl_ierHG5yK",
        "outputId": "79b23b60-4916-411d-ded3-520c78ebc8fe"
      },
      "outputs": [
        {
          "name": "stdout",
          "output_type": "stream",
          "text": [
            "Haha\n"
          ]
        }
      ],
      "source": [
        "lol = True # boolean variable\n",
        "\n",
        "if lol:\n",
        "  print(\"Haha\")\n",
        "\n",
        "rofl = False # boolean variable\n",
        "\n",
        "if rofl:\n",
        "  print(\"Hahaha\")"
      ]
    },
    {
      "cell_type": "code",
      "execution_count": null,
      "metadata": {
        "colab": {
          "base_uri": "https://localhost:8080/"
        },
        "id": "oLQeZPwMGAeD",
        "outputId": "6f98d4a1-4918-4486-c544-867c38ab1471"
      },
      "outputs": [
        {
          "name": "stdout",
          "output_type": "stream",
          "text": [
            "Haha\n"
          ]
        }
      ],
      "source": [
        "lol = 2 < 3 # 2 is less than 3, so lol = True\n",
        "\n",
        "if lol:\n",
        "  print(\"Haha\")"
      ]
    },
    {
      "cell_type": "code",
      "execution_count": null,
      "metadata": {
        "colab": {
          "base_uri": "https://localhost:8080/"
        },
        "id": "XUjg9JJwH3qW",
        "outputId": "feb7372b-1b62-414b-b3e7-a18200d98b56"
      },
      "outputs": [
        {
          "data": {
            "text/plain": [
              "(False, False, True)"
            ]
          },
          "execution_count": 7,
          "metadata": {},
          "output_type": "execute_result"
        }
      ],
      "source": [
        "True and False, False and False, True and True"
      ]
    },
    {
      "cell_type": "code",
      "execution_count": null,
      "metadata": {
        "colab": {
          "base_uri": "https://localhost:8080/"
        },
        "id": "2daICwjRIBhm",
        "outputId": "c9d79bc6-db77-4f9b-e347-023467d56ebd"
      },
      "outputs": [
        {
          "data": {
            "text/plain": [
              "(True, True, False)"
            ]
          },
          "execution_count": 8,
          "metadata": {},
          "output_type": "execute_result"
        }
      ],
      "source": [
        "True or False, True or True, False or False"
      ]
    },
    {
      "cell_type": "code",
      "execution_count": null,
      "metadata": {
        "colab": {
          "base_uri": "https://localhost:8080/"
        },
        "id": "R20F6oNFIGs9",
        "outputId": "26a3c1bf-5f79-4edc-fc72-f4fa1e49103b"
      },
      "outputs": [
        {
          "data": {
            "text/plain": [
              "(False, True)"
            ]
          },
          "execution_count": 9,
          "metadata": {},
          "output_type": "execute_result"
        }
      ],
      "source": [
        "not True, not False"
      ]
    },
    {
      "cell_type": "markdown",
      "metadata": {
        "id": "MAvByfcpMW3q"
      },
      "source": [
        "## Lists"
      ]
    },
    {
      "cell_type": "code",
      "execution_count": null,
      "metadata": {
        "id": "nyu07W26MWd5"
      },
      "outputs": [],
      "source": [
        "a_list = [1,2,4,8]\n",
        "another_list = list()"
      ]
    },
    {
      "cell_type": "code",
      "execution_count": null,
      "metadata": {
        "colab": {
          "base_uri": "https://localhost:8080/"
        },
        "id": "BkWy9b_VMVTE",
        "outputId": "1abac973-be92-4f45-80bc-93971d371919"
      },
      "outputs": [
        {
          "data": {
            "text/plain": [
              "['element']"
            ]
          },
          "execution_count": 13,
          "metadata": {},
          "output_type": "execute_result"
        }
      ],
      "source": [
        "another_list.append(\"element\")\n",
        "another_list"
      ]
    },
    {
      "cell_type": "code",
      "execution_count": null,
      "metadata": {
        "colab": {
          "base_uri": "https://localhost:8080/"
        },
        "id": "MMgH2tW_NWPx",
        "outputId": "4cd989ee-20dc-4500-fa4a-d76580b3b6a7"
      },
      "outputs": [
        {
          "data": {
            "text/plain": [
              "8"
            ]
          },
          "execution_count": 15,
          "metadata": {},
          "output_type": "execute_result"
        }
      ],
      "source": [
        "a_list[3]"
      ]
    },
    {
      "cell_type": "markdown",
      "metadata": {
        "id": "E99QRaSsNUpn"
      },
      "source": []
    },
    {
      "cell_type": "markdown",
      "metadata": {
        "id": "99ZFLNIXK5Cd"
      },
      "source": [
        "## Loops"
      ]
    },
    {
      "cell_type": "code",
      "execution_count": null,
      "metadata": {
        "colab": {
          "base_uri": "https://localhost:8080/"
        },
        "id": "inMwsh_VK3sd",
        "outputId": "d0eaf841-4ad2-4b5d-a531-f9d42308d4b6"
      },
      "outputs": [
        {
          "name": "stdout",
          "output_type": "stream",
          "text": [
            "hello\n",
            "how\n",
            "are\n",
            "you\n"
          ]
        }
      ],
      "source": [
        "for word in [\"hello\", \"how\", \"are\", \"you\"]:\n",
        "  print(word)"
      ]
    },
    {
      "cell_type": "markdown",
      "metadata": {
        "id": "PegiTcWwtTuH"
      },
      "source": [
        "## Functions"
      ]
    },
    {
      "cell_type": "code",
      "execution_count": null,
      "metadata": {
        "colab": {
          "base_uri": "https://localhost:8080/"
        },
        "id": "ZD93JNK4K2a-",
        "outputId": "55d80d30-d713-4e04-bd7c-ae7160eaa6ca"
      },
      "outputs": [
        {
          "data": {
            "text/plain": [
              "5"
            ]
          },
          "execution_count": 1,
          "metadata": {},
          "output_type": "execute_result"
        }
      ],
      "source": [
        "len(\"hello\")"
      ]
    },
    {
      "cell_type": "code",
      "execution_count": null,
      "metadata": {
        "id": "cUnFm_gi0GTE"
      },
      "outputs": [],
      "source": [
        "def hello():\n",
        "  return(\"hello\")"
      ]
    },
    {
      "cell_type": "code",
      "execution_count": null,
      "metadata": {
        "colab": {
          "base_uri": "https://localhost:8080/",
          "height": 36
        },
        "id": "LMOcfuex0Nba",
        "outputId": "4d86ec12-b593-4ea0-d9e8-c13fde16c789"
      },
      "outputs": [
        {
          "data": {
            "application/vnd.google.colaboratory.intrinsic+json": {
              "type": "string"
            },
            "text/plain": [
              "'hello'"
            ]
          },
          "execution_count": 19,
          "metadata": {},
          "output_type": "execute_result"
        }
      ],
      "source": [
        "hello()"
      ]
    },
    {
      "cell_type": "code",
      "execution_count": null,
      "metadata": {
        "id": "QMAzNQuOxHt7"
      },
      "outputs": [],
      "source": [
        "def emoji(expression,number):\n",
        "  for i in range(number):\n",
        "    if expression == \"happy\":\n",
        "      print(\":)\")\n",
        "    else:\n",
        "      print(\":(\")"
      ]
    },
    {
      "cell_type": "code",
      "execution_count": null,
      "metadata": {
        "colab": {
          "base_uri": "https://localhost:8080/"
        },
        "id": "w2mh8Z2VxvTy",
        "outputId": "a644deef-e2f8-44b0-caad-9f68a0f36098"
      },
      "outputs": [
        {
          "name": "stdout",
          "output_type": "stream",
          "text": [
            ":)\n",
            ":)\n"
          ]
        }
      ],
      "source": [
        "emoji(\"happy\",2)"
      ]
    },
    {
      "cell_type": "code",
      "execution_count": null,
      "metadata": {
        "colab": {
          "base_uri": "https://localhost:8080/"
        },
        "id": "c0HrMyQ1yC27",
        "outputId": "7c3f9dca-16b1-499c-b793-b689215575f9"
      },
      "outputs": [
        {
          "name": "stdout",
          "output_type": "stream",
          "text": [
            ":(\n"
          ]
        }
      ],
      "source": [
        "emoji(\"sad\",1)"
      ]
    },
    {
      "cell_type": "markdown",
      "metadata": {
        "id": "ZSeNJ8IF2v-4"
      },
      "source": [
        "## Classes"
      ]
    },
    {
      "cell_type": "code",
      "execution_count": null,
      "metadata": {
        "id": "j43xqzyU2vBm"
      },
      "outputs": [],
      "source": [
        "class Dog:\n",
        "\n",
        "    def __init__(self, name):\n",
        "        self.name = name\n",
        "        self.tricks = []\n",
        "\n",
        "    def add_trick(self, trick):\n",
        "        self.tricks.append(trick)"
      ]
    },
    {
      "cell_type": "code",
      "execution_count": null,
      "metadata": {
        "colab": {
          "base_uri": "https://localhost:8080/"
        },
        "id": "JCWAQUKX0R9C",
        "outputId": "6508c57d-4fed-441c-d4a9-b90dbee3845c"
      },
      "outputs": [
        {
          "name": "stdout",
          "output_type": "stream",
          "text": [
            "Fido ['roll over']\n"
          ]
        }
      ],
      "source": [
        "d = Dog('Fido') # instance of a dog\n",
        "d.add_trick('roll over') # adding a trick\n",
        "\n",
        "print(d.name,d.tricks)"
      ]
    },
    {
      "cell_type": "markdown",
      "metadata": {
        "id": "VZ-vpOir3mYC"
      },
      "source": [
        "## Packages"
      ]
    },
    {
      "cell_type": "code",
      "execution_count": null,
      "metadata": {
        "colab": {
          "base_uri": "https://localhost:8080/"
        },
        "id": "WgpNqhhp3ogV",
        "outputId": "5f1ba226-173a-478a-a000-074a1bfa8844"
      },
      "outputs": [
        {
          "data": {
            "text/plain": [
              "1"
            ]
          },
          "execution_count": 4,
          "metadata": {},
          "output_type": "execute_result"
        }
      ],
      "source": [
        "import numpy as np\n",
        "\n",
        "np.absolute(-1)"
      ]
    },
    {
      "cell_type": "code",
      "execution_count": null,
      "metadata": {
        "id": "BXRLxmiR47EB"
      },
      "outputs": [],
      "source": [
        "from matplotlib import pyplot as plt"
      ]
    }
  ],
  "metadata": {
    "colab": {
      "provenance": []
    },
    "kernelspec": {
      "display_name": "Python 3.11.0 ('ABM_masterclass')",
      "language": "python",
      "name": "python3"
    },
    "language_info": {
      "name": "python",
      "version": "3.11.0"
    },
    "vscode": {
      "interpreter": {
        "hash": "2b3fdc05c7db177b9feb9a07f5f1d7cedcc0f12a81a0f49e53c1c1dd32460731"
      }
    }
  },
  "nbformat": 4,
  "nbformat_minor": 0
}
